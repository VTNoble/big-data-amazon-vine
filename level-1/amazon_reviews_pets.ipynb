{
  "cells": [
    {
      "cell_type": "code",
      "execution_count": 1,
      "metadata": {
        "id": "5WosHdRWdmpw",
        "colab": {
          "base_uri": "https://localhost:8080/"
        },
        "outputId": "19d81493-262c-462a-fc09-b43f82a2caad"
      },
      "outputs": [
        {
          "output_type": "stream",
          "name": "stdout",
          "text": [
            "Get:1 https://cloud.r-project.org/bin/linux/ubuntu bionic-cran40/ InRelease [3,626 B]\n",
            "Ign:2 https://developer.download.nvidia.com/compute/machine-learning/repos/ubuntu1804/x86_64  InRelease\n",
            "Get:3 https://developer.download.nvidia.com/compute/cuda/repos/ubuntu1804/x86_64  InRelease [1,581 B]\n",
            "Hit:4 http://archive.ubuntu.com/ubuntu bionic InRelease\n",
            "Hit:5 https://developer.download.nvidia.com/compute/machine-learning/repos/ubuntu1804/x86_64  Release\n",
            "Get:6 http://security.ubuntu.com/ubuntu bionic-security InRelease [88.7 kB]\n",
            "Get:7 http://archive.ubuntu.com/ubuntu bionic-updates InRelease [88.7 kB]\n",
            "Get:8 http://ppa.launchpad.net/c2d4u.team/c2d4u4.0+/ubuntu bionic InRelease [15.9 kB]\n",
            "Get:9 http://archive.ubuntu.com/ubuntu bionic-backports InRelease [74.6 kB]\n",
            "Hit:10 http://ppa.launchpad.net/cran/libgit2/ubuntu bionic InRelease\n",
            "Get:11 https://cloud.r-project.org/bin/linux/ubuntu bionic-cran40/ Packages [91.1 kB]\n",
            "Hit:12 http://ppa.launchpad.net/deadsnakes/ppa/ubuntu bionic InRelease\n",
            "Get:13 https://developer.download.nvidia.com/compute/cuda/repos/ubuntu1804/x86_64  Packages [912 kB]\n",
            "Hit:14 http://ppa.launchpad.net/graphics-drivers/ppa/ubuntu bionic InRelease\n",
            "Get:16 http://archive.ubuntu.com/ubuntu bionic-updates/main amd64 Packages [3,369 kB]\n",
            "Get:17 http://archive.ubuntu.com/ubuntu bionic-updates/universe amd64 Packages [2,313 kB]\n",
            "Get:18 http://ppa.launchpad.net/c2d4u.team/c2d4u4.0+/ubuntu bionic/main Sources [2,097 kB]\n",
            "Get:19 http://security.ubuntu.com/ubuntu bionic-security/universe amd64 Packages [1,536 kB]\n",
            "Get:20 http://ppa.launchpad.net/c2d4u.team/c2d4u4.0+/ubuntu bionic/main amd64 Packages [1,075 kB]\n",
            "Get:21 http://security.ubuntu.com/ubuntu bionic-security/main amd64 Packages [2,938 kB]\n",
            "Fetched 14.6 MB in 7s (2,215 kB/s)\n",
            "Reading package lists... Done\n"
          ]
        }
      ],
      "source": [
        "import os\n",
        "# Find the latest version of spark 3.0  from http://www.apache.org/dist/spark/ and enter as the spark version\n",
        "# For example:\n",
        "spark_version = 'spark-3.3.0'\n",
        "# spark_version = 'spark-3.<enter version>'\n",
        "os.environ['SPARK_VERSION']=spark_version\n",
        "\n",
        "# Install Spark and Java\n",
        "!apt-get update\n",
        "!apt-get install openjdk-8-jdk-headless -qq > /dev/null\n",
        "!wget -q http://www.apache.org/dist/spark/$SPARK_VERSION/$SPARK_VERSION-bin-hadoop3.tgz\n",
        "!tar xf $SPARK_VERSION-bin-hadoop3.tgz\n",
        "!pip install -q findspark\n",
        "\n",
        "# Set Environment Variables\n",
        "os.environ[\"JAVA_HOME\"] = \"/usr/lib/jvm/java-8-openjdk-amd64\"\n",
        "os.environ[\"SPARK_HOME\"] = f\"/content/{spark_version}-bin-hadoop3\"\n",
        "\n",
        "# Start a SparkSession\n",
        "import findspark\n",
        "findspark.init()"
      ]
    },
    {
      "cell_type": "code",
      "execution_count": 2,
      "metadata": {
        "colab": {
          "base_uri": "https://localhost:8080/"
        },
        "id": "xISV-9eR6Yah",
        "outputId": "cfca8d0c-5bd7-4418-89ef-a1e2767154e8"
      },
      "outputs": [
        {
          "output_type": "stream",
          "name": "stdout",
          "text": [
            "--2022-08-30 20:14:51--  https://jdbc.postgresql.org/download/postgresql-42.2.9.jar\n",
            "Resolving jdbc.postgresql.org (jdbc.postgresql.org)... 72.32.157.228, 2001:4800:3e1:1::228\n",
            "Connecting to jdbc.postgresql.org (jdbc.postgresql.org)|72.32.157.228|:443... connected.\n",
            "HTTP request sent, awaiting response... 200 OK\n",
            "Length: 914037 (893K) [application/java-archive]\n",
            "Saving to: ‘postgresql-42.2.9.jar’\n",
            "\n",
            "postgresql-42.2.9.j 100%[===================>] 892.61K  --.-KB/s    in 0.1s    \n",
            "\n",
            "2022-08-30 20:14:52 (8.99 MB/s) - ‘postgresql-42.2.9.jar’ saved [914037/914037]\n",
            "\n"
          ]
        }
      ],
      "source": [
        "!wget https://jdbc.postgresql.org/download/postgresql-42.2.9.jar"
      ]
    },
    {
      "cell_type": "code",
      "execution_count": 3,
      "metadata": {
        "id": "aEQFTWiV6g2h"
      },
      "outputs": [],
      "source": [
        "from pyspark.sql import SparkSession\n",
        "spark = SparkSession.builder.appName(\"CloudETL\").config(\"spark.driver.extraClassPath\",\"/content/postgresql-42.2.9.jar\").getOrCreate()"
      ]
    },
    {
      "cell_type": "code",
      "execution_count": 4,
      "metadata": {
        "colab": {
          "base_uri": "https://localhost:8080/"
        },
        "id": "qik6uGSV9BWa",
        "outputId": "5c998463-d309-4e03-e46c-7b0c4f2997a1"
      },
      "outputs": [
        {
          "output_type": "stream",
          "name": "stdout",
          "text": [
            "+-----------+-----------+--------------+----------+--------------+--------------------+----------------+-----------+-------------+-----------+----+-----------------+--------------------+--------------------+-------------------+\n",
            "|marketplace|customer_id|     review_id|product_id|product_parent|       product_title|product_category|star_rating|helpful_votes|total_votes|vine|verified_purchase|     review_headline|         review_body|        review_date|\n",
            "+-----------+-----------+--------------+----------+--------------+--------------------+----------------+-----------+-------------+-----------+----+-----------------+--------------------+--------------------+-------------------+\n",
            "|         US|   28794885| REAKC26P07MDN|B00Q0K9604|     510387886|(8-Pack) EZwhelp ...|    Pet Products|          5|            0|          0|   N|                Y|A great purchase ...|Best belly bands ...|2015-08-31 00:00:00|\n",
            "|         US|   11488901|R3NU7OMZ4HQIEG|B00MBW5O9W|     912374672|Warren Eckstein's...|    Pet Products|          2|            0|          1|   N|                Y|My dogs love Hugs...|My dogs love Hugs...|2015-08-31 00:00:00|\n",
            "|         US|   43214993|R14QJW3XF8QO1P|B0084OHUIO|     902215727|Tyson's True Chew...|    Pet Products|          5|            0|          0|   N|                Y|I have been purch...|I have been purch...|2015-08-31 00:00:00|\n",
            "|         US|   12835065|R2HB7AX0394ZGY|B001GS71K2|     568880110|Soft Side Pet Cra...|    Pet Products|          5|            0|          0|   N|                Y|it is easy to ope...|It is extremely w...|2015-08-31 00:00:00|\n",
            "|         US|   26334022| RGKMPDQGSAHR3|B004ABH1LG|     692846826|EliteField 3-Door...|    Pet Products|          5|            0|          0|   N|                Y|           Dog crate|Worked really wel...|2015-08-31 00:00:00|\n",
            "|         US|   22283621|R1DJCVPQGCV66E|B00AX0LFM4|     590674141|Carlson 68-Inch W...|    Pet Products|          5|            0|          0|   N|                Y|          Five Stars|I love my gates! ...|2015-08-31 00:00:00|\n",
            "|         US|   14469895|R3V52EAWLPBFQG|B00DQFZGZ0|     688538603|Dog Seat Cover Wi...|    Pet Products|          3|            0|          0|   N|                Y|Seat belt tugs on...|Didn't quite work...|2015-08-31 00:00:00|\n",
            "|         US|   50896354|R3DKO8J1J28QBI|B00DIRF9US|     742358789|The Bird Catcher ...|    Pet Products|          2|            0|          0|   N|                Y|Great Pole, but S...|I had the origina...|2015-08-31 00:00:00|\n",
            "|         US|   18440567| R764DBXGRNECG|B00JRCBFUG|     869798483|Cat Bed - Purrfec...|    Pet Products|          5|            1|          1|   N|                N|     My cat loves it|The pad is very s...|2015-08-31 00:00:00|\n",
            "|         US|   50502362| RW1853GAT0Z9F|B000L3XYZ4|     501118658|PetSafe Drinkwell...|    Pet Products|          5|            0|          0|   N|                Y|          Five Stars|My cat drinks mor...|2015-08-31 00:00:00|\n",
            "|         US|   33930128|R33GITXNUF1AD4|B00BOEXWFG|     454737777|Contech ZenDog Ca...|    Pet Products|          2|            0|          0|   N|                Y|Also had to pull ...|Much smaller than...|2015-08-31 00:00:00|\n",
            "|         US|   43534290|R1H7AVM81TAYRV|B001HBBQKY|     420905252|Wellness Crunchy ...|    Pet Products|          1|            2|          2|   N|                Y|DO NOT PURCHASE -...|I used to love th...|2015-08-31 00:00:00|\n",
            "|         US|   45555864|R2ZOYAQZNNZZWV|B007O1FHB0|     302588963|Rx Vitamins Essen...|    Pet Products|          5|            0|          0|   N|                Y|          Five Stars|Recommended by my...|2015-08-31 00:00:00|\n",
            "|         US|   11147406|R2FN1H3CGW6J8H|B001P3NU30|     525778264|Virbac C.E.T. Enz...|    Pet Products|          1|            0|          0|   N|                Y|Received wrong pr...|Yes I  ordered fo...|2015-08-31 00:00:00|\n",
            "|         US|    6495678| RJB41Q575XNG4|B00ZP6HS6S|     414117299|Kitty Shack - 2 i...|    Pet Products|          5|            0|          3|   N|                Y|          Five Stars|      It falls apart|2015-08-31 00:00:00|\n",
            "|         US|    2019416|R28W8BM1587CPF|B00IP05CUA|     833937853|Wellness Kittles ...|    Pet Products|          5|            0|          0|   N|                Y|kitty is ravenous...|My cat really lov...|2015-08-31 00:00:00|\n",
            "|         US|   40459386|R1II0M01NIG293|B001U8Y598|      85343577|OmniPet Anti-Ant ...|    Pet Products|          2|            0|          0|   N|                N|Maybe other speci...|This bowl is not ...|2015-08-31 00:00:00|\n",
            "|         US|   23126800| RMB8N0DBRH34O|B011AY4JWO|     499241195|K9KONNECTION [New...|    Pet Products|          5|            1|          1|   N|                Y|This works, dog n...|I have a small do...|2015-08-31 00:00:00|\n",
            "|         US|   30238476|R24WB6A6WVIPU6|B00DDSHE5A|     409532388|SUNSEED COMPANY 3...|    Pet Products|          5|            0|          0|   N|                Y|    Yummy for Bunny!|Bunny loves it! E...|2015-08-31 00:00:00|\n",
            "|         US|   35113999| ROCJSH0P9YSRW|B00PJW5OR8|     259271919|CXB1983(TM)Cute P...|    Pet Products|          5|            0|          0|   N|                Y|excellent price, ...|Petfect,,quality ...|2015-08-31 00:00:00|\n",
            "+-----------+-----------+--------------+----------+--------------+--------------------+----------------+-----------+-------------+-----------+----+-----------------+--------------------+--------------------+-------------------+\n",
            "only showing top 20 rows\n",
            "\n"
          ]
        }
      ],
      "source": [
        "# Read in data from url\n",
        "from pyspark import SparkFiles\n",
        "url=\"https://s3.amazonaws.com/amazon-reviews-pds/tsv/amazon_reviews_us_Pet_Products_v1_00.tsv.gz\"\n",
        "\n",
        "spark.sparkContext.addFile(url)\n",
        "df = spark.read.csv(SparkFiles.get(\"amazon_reviews_us_Pet_Products_v1_00.tsv.gz\"), sep=\"\\t\", header=True, inferSchema=True)\n",
        "\n",
        "# Show DataFrame\n",
        "df.show()"
      ]
    },
    {
      "cell_type": "code",
      "execution_count": 5,
      "metadata": {
        "colab": {
          "base_uri": "https://localhost:8080/"
        },
        "id": "RzqGVnoNd-d8",
        "outputId": "efa89951-5242-446c-f1c6-6d9f70341c36"
      },
      "outputs": [
        {
          "output_type": "execute_result",
          "data": {
            "text/plain": [
              "2643619"
            ]
          },
          "metadata": {},
          "execution_count": 5
        }
      ],
      "source": [
        "# Count the number of records (rows) in the dataset\n",
        "df.count()"
      ]
    },
    {
      "cell_type": "code",
      "execution_count": 6,
      "metadata": {
        "id": "GoN3Gyb4fkhC"
      },
      "outputs": [],
      "source": [
        "# drop null values\n",
        "df = df.dropna()"
      ]
    },
    {
      "cell_type": "code",
      "execution_count": 7,
      "metadata": {
        "colab": {
          "base_uri": "https://localhost:8080/"
        },
        "id": "rtDndjrdlh83",
        "outputId": "0c1f70a1-80f1-4cf7-9051-4b981c42cf23"
      },
      "outputs": [
        {
          "output_type": "stream",
          "name": "stdout",
          "text": [
            "root\n",
            " |-- marketplace: string (nullable = true)\n",
            " |-- customer_id: integer (nullable = true)\n",
            " |-- review_id: string (nullable = true)\n",
            " |-- product_id: string (nullable = true)\n",
            " |-- product_parent: integer (nullable = true)\n",
            " |-- product_title: string (nullable = true)\n",
            " |-- product_category: string (nullable = true)\n",
            " |-- star_rating: integer (nullable = true)\n",
            " |-- helpful_votes: integer (nullable = true)\n",
            " |-- total_votes: integer (nullable = true)\n",
            " |-- vine: string (nullable = true)\n",
            " |-- verified_purchase: string (nullable = true)\n",
            " |-- review_headline: string (nullable = true)\n",
            " |-- review_body: string (nullable = true)\n",
            " |-- review_date: timestamp (nullable = true)\n",
            "\n"
          ]
        }
      ],
      "source": [
        "# print schema to see datatypes\n",
        "df.printSchema()"
      ]
    },
    {
      "cell_type": "code",
      "execution_count": 8,
      "metadata": {
        "colab": {
          "base_uri": "https://localhost:8080/"
        },
        "id": "bjEBAydllvCg",
        "outputId": "808b2b68-09f6-4ffa-8586-b1879c0b7232"
      },
      "outputs": [
        {
          "output_type": "stream",
          "name": "stdout",
          "text": [
            "+--------------+-----------+----------+--------------+-------------------+\n",
            "|     review_id|customer_id|product_id|product_parent|        review_date|\n",
            "+--------------+-----------+----------+--------------+-------------------+\n",
            "| REAKC26P07MDN|   28794885|B00Q0K9604|     510387886|2015-08-31 00:00:00|\n",
            "|R3NU7OMZ4HQIEG|   11488901|B00MBW5O9W|     912374672|2015-08-31 00:00:00|\n",
            "|R14QJW3XF8QO1P|   43214993|B0084OHUIO|     902215727|2015-08-31 00:00:00|\n",
            "|R2HB7AX0394ZGY|   12835065|B001GS71K2|     568880110|2015-08-31 00:00:00|\n",
            "| RGKMPDQGSAHR3|   26334022|B004ABH1LG|     692846826|2015-08-31 00:00:00|\n",
            "|R1DJCVPQGCV66E|   22283621|B00AX0LFM4|     590674141|2015-08-31 00:00:00|\n",
            "|R3V52EAWLPBFQG|   14469895|B00DQFZGZ0|     688538603|2015-08-31 00:00:00|\n",
            "|R3DKO8J1J28QBI|   50896354|B00DIRF9US|     742358789|2015-08-31 00:00:00|\n",
            "| R764DBXGRNECG|   18440567|B00JRCBFUG|     869798483|2015-08-31 00:00:00|\n",
            "| RW1853GAT0Z9F|   50502362|B000L3XYZ4|     501118658|2015-08-31 00:00:00|\n",
            "|R33GITXNUF1AD4|   33930128|B00BOEXWFG|     454737777|2015-08-31 00:00:00|\n",
            "|R1H7AVM81TAYRV|   43534290|B001HBBQKY|     420905252|2015-08-31 00:00:00|\n",
            "|R2ZOYAQZNNZZWV|   45555864|B007O1FHB0|     302588963|2015-08-31 00:00:00|\n",
            "|R2FN1H3CGW6J8H|   11147406|B001P3NU30|     525778264|2015-08-31 00:00:00|\n",
            "| RJB41Q575XNG4|    6495678|B00ZP6HS6S|     414117299|2015-08-31 00:00:00|\n",
            "|R28W8BM1587CPF|    2019416|B00IP05CUA|     833937853|2015-08-31 00:00:00|\n",
            "|R1II0M01NIG293|   40459386|B001U8Y598|      85343577|2015-08-31 00:00:00|\n",
            "| RMB8N0DBRH34O|   23126800|B011AY4JWO|     499241195|2015-08-31 00:00:00|\n",
            "|R24WB6A6WVIPU6|   30238476|B00DDSHE5A|     409532388|2015-08-31 00:00:00|\n",
            "| ROCJSH0P9YSRW|   35113999|B00PJW5OR8|     259271919|2015-08-31 00:00:00|\n",
            "+--------------+-----------+----------+--------------+-------------------+\n",
            "only showing top 20 rows\n",
            "\n"
          ]
        }
      ],
      "source": [
        "# create dataframe to reflect review_id_table from schema file\n",
        "review_df = df.select(['review_id', 'customer_id', 'product_id', 'product_parent', 'review_date'])\n",
        "\n",
        "# preview df\n",
        "review_df.show()"
      ]
    },
    {
      "cell_type": "code",
      "execution_count": 9,
      "metadata": {
        "colab": {
          "base_uri": "https://localhost:8080/"
        },
        "id": "qVzKY3EjmUoj",
        "outputId": "72e5df93-3f18-49ce-8837-81365c0b36fa"
      },
      "outputs": [
        {
          "output_type": "stream",
          "name": "stdout",
          "text": [
            "+----------+--------------------+\n",
            "|product_id|       product_title|\n",
            "+----------+--------------------+\n",
            "|B00134HSYS|Special Edition P...|\n",
            "|B00BS6NPBG|High Tech Pet 6-P...|\n",
            "|B000F930FS|PetSafe ScoopFree...|\n",
            "|B000FJ9QTW|Insight ActiviToy...|\n",
            "|B000ALY0OQ|SmartCat Bootsie'...|\n",
            "|B00Q8ETIZ0|Dogloveit Rubber ...|\n",
            "|B002VU2BA4|Kragonfly Interch...|\n",
            "|B00QA3K3QM|Attmu Retractable...|\n",
            "|B005DGHUC2|Zoo Med Laborator...|\n",
            "|B000XY7C7C|All Four Paws, Th...|\n",
            "|B004UUE26O|Animal Planet PET...|\n",
            "|B008APML2C|Chuckit Medium Ul...|\n",
            "|B00ZJN7T8E|1 Half Portion Ja...|\n",
            "|B00NRZC8LY|Hide-A-Toy Hallow...|\n",
            "|B001P3NU4E|Virbac C.E.T. Enz...|\n",
            "|B003TEQ2U6|Jolly Pets Jolly ...|\n",
            "|B00DJSNF0M|Multipet Lenny th...|\n",
            "|B00FXVFEQG|Bags on Board Dur...|\n",
            "|B005ORDWYA|Just One Bite II ...|\n",
            "|B003E77OG4|  Petmate Sky Kennel|\n",
            "+----------+--------------------+\n",
            "only showing top 20 rows\n",
            "\n"
          ]
        }
      ],
      "source": [
        "# create dataframe to reflect products table from schema file\n",
        "products_df = df.select(['product_id', 'product_title'])\n",
        "\n",
        "# drop duplicates\n",
        "products_df = products_df.dropDuplicates()\n",
        "\n",
        "# preview df\n",
        "products_df.show()"
      ]
    },
    {
      "cell_type": "code",
      "execution_count": 10,
      "metadata": {
        "colab": {
          "base_uri": "https://localhost:8080/"
        },
        "id": "K6mUzCILmj9X",
        "outputId": "818187de-f897-4d30-d8a6-54ec8708fbd2"
      },
      "outputs": [
        {
          "output_type": "stream",
          "name": "stdout",
          "text": [
            "+-----------+--------------+\n",
            "|customer_id|customer_count|\n",
            "+-----------+--------------+\n",
            "|   22500722|           258|\n",
            "|   31511151|           236|\n",
            "|   16053845|           228|\n",
            "|   25659082|           210|\n",
            "|   23375624|           200|\n",
            "|   43856165|           198|\n",
            "|   51175061|           163|\n",
            "|   37446839|           160|\n",
            "|   16540594|           150|\n",
            "|   33315159|           134|\n",
            "|   52263513|           134|\n",
            "|   16916667|           134|\n",
            "|   18164293|           132|\n",
            "|   18539854|           132|\n",
            "|   29676361|           130|\n",
            "|   39154578|           121|\n",
            "|   16052325|           120|\n",
            "|   38352624|           119|\n",
            "|   42329785|           115|\n",
            "|   50991253|           115|\n",
            "+-----------+--------------+\n",
            "only showing top 20 rows\n",
            "\n"
          ]
        }
      ],
      "source": [
        "# create dataframe to reflect customers table from schema file\n",
        "customers_df = df.groupby('customer_id').count()\n",
        "\n",
        "# sort count by descending\n",
        "from pyspark.sql.functions import desc\n",
        "customers_df = customers_df.orderBy(desc('count'))\n",
        "\n",
        "# rename columns to match schema file\n",
        "customers_df = customers_df.withColumnRenamed('count', 'customer_count') \n",
        "\n",
        "# preview df\n",
        "customers_df.show()"
      ]
    },
    {
      "cell_type": "code",
      "execution_count": 11,
      "metadata": {
        "colab": {
          "base_uri": "https://localhost:8080/"
        },
        "id": "wVcL8Ub7mmaY",
        "outputId": "b1aabf28-5d51-4fab-d52d-db33ac926844"
      },
      "outputs": [
        {
          "output_type": "stream",
          "name": "stdout",
          "text": [
            "+--------------+-----------+-------------+-----------+----+\n",
            "|     review_id|star_rating|helpful_votes|total_votes|vine|\n",
            "+--------------+-----------+-------------+-----------+----+\n",
            "| REAKC26P07MDN|          5|            0|          0|   N|\n",
            "|R3NU7OMZ4HQIEG|          2|            0|          1|   N|\n",
            "|R14QJW3XF8QO1P|          5|            0|          0|   N|\n",
            "|R2HB7AX0394ZGY|          5|            0|          0|   N|\n",
            "| RGKMPDQGSAHR3|          5|            0|          0|   N|\n",
            "|R1DJCVPQGCV66E|          5|            0|          0|   N|\n",
            "|R3V52EAWLPBFQG|          3|            0|          0|   N|\n",
            "|R3DKO8J1J28QBI|          2|            0|          0|   N|\n",
            "| R764DBXGRNECG|          5|            1|          1|   N|\n",
            "| RW1853GAT0Z9F|          5|            0|          0|   N|\n",
            "|R33GITXNUF1AD4|          2|            0|          0|   N|\n",
            "|R1H7AVM81TAYRV|          1|            2|          2|   N|\n",
            "|R2ZOYAQZNNZZWV|          5|            0|          0|   N|\n",
            "|R2FN1H3CGW6J8H|          1|            0|          0|   N|\n",
            "| RJB41Q575XNG4|          5|            0|          3|   N|\n",
            "|R28W8BM1587CPF|          5|            0|          0|   N|\n",
            "|R1II0M01NIG293|          2|            0|          0|   N|\n",
            "| RMB8N0DBRH34O|          5|            1|          1|   N|\n",
            "|R24WB6A6WVIPU6|          5|            0|          0|   N|\n",
            "| ROCJSH0P9YSRW|          5|            0|          0|   N|\n",
            "+--------------+-----------+-------------+-----------+----+\n",
            "only showing top 20 rows\n",
            "\n"
          ]
        }
      ],
      "source": [
        "# create dataframe to reflect vine_table from schema file\n",
        "vine_df = df.select(['review_id', 'star_rating', 'helpful_votes', 'total_votes', 'vine'])\n",
        "\n",
        "# preview df\n",
        "vine_df.show()"
      ]
    },
    {
      "cell_type": "code",
      "source": [
        "# change data type of star_rating column to integer to match schema file\n",
        "from pyspark.sql.types import IntegerType\n",
        "\n",
        "vine_df = vine_df.withColumn(\"star_rating\", df[\"star_rating\"].cast(IntegerType()))\n",
        "\n",
        "# Print schema\n",
        "vine_df.printSchema()"
      ],
      "metadata": {
        "colab": {
          "base_uri": "https://localhost:8080/"
        },
        "id": "ViE0ddOGQ5gw",
        "outputId": "27c30b82-8df4-45f2-a48a-e50aa8bbbeb3"
      },
      "execution_count": 12,
      "outputs": [
        {
          "output_type": "stream",
          "name": "stdout",
          "text": [
            "root\n",
            " |-- review_id: string (nullable = true)\n",
            " |-- star_rating: integer (nullable = true)\n",
            " |-- helpful_votes: integer (nullable = true)\n",
            " |-- total_votes: integer (nullable = true)\n",
            " |-- vine: string (nullable = true)\n",
            "\n"
          ]
        }
      ]
    },
    {
      "cell_type": "markdown",
      "metadata": {
        "id": "kQgPpNnVnRwh"
      },
      "source": [
        "Postgres Setup"
      ]
    },
    {
      "cell_type": "code",
      "execution_count": 13,
      "metadata": {
        "id": "985Vl1dtmpVU"
      },
      "outputs": [],
      "source": [
        "# Configure settings for RDS\n",
        "mode = \"append\"\n",
        "jdbc_url=\"jdbc:postgresql://my-db.ctsrrcuudeqx.us-east-1.rds.amazonaws.com:5432/my_db\"\n",
        "config = {\"user\":\"postgres\", \n",
        "          \"password\": \"admin123\", \n",
        "          \"driver\":\"org.postgresql.Driver\"}\n"
      ]
    },
    {
      "cell_type": "code",
      "execution_count": 14,
      "metadata": {
        "id": "9yyZgvcUnaNN"
      },
      "outputs": [],
      "source": [
        "# Write DataFrame to review_id_table in RDS\n",
        "\n",
        "review_df.write.jdbc(url=jdbc_url, table='review_id_table', mode=mode, properties=config)"
      ]
    },
    {
      "cell_type": "code",
      "execution_count": 16,
      "metadata": {
        "id": "8rsTf2kmna3V"
      },
      "outputs": [],
      "source": [
        "# Write dataframe to products table in RDS\n",
        "\n",
        "products_df.write.jdbc(url=jdbc_url, table='products', mode=mode, properties=config)"
      ]
    },
    {
      "cell_type": "code",
      "execution_count": 19,
      "metadata": {
        "id": "9q6Bm3kAncqx"
      },
      "outputs": [],
      "source": [
        "# Write dataframe to customers table in RDS\n",
        "\n",
        "customers_df.write.jdbc(url=jdbc_url, table='customers', mode=mode, properties=config)"
      ]
    },
    {
      "cell_type": "code",
      "execution_count": 18,
      "metadata": {
        "id": "Kx3hMnlAD5FA"
      },
      "outputs": [],
      "source": [
        "# Write dataframe to vine_table in RDS\n",
        "\n",
        "vine_df.write.jdbc(url=jdbc_url, table='vine_table', mode=mode, properties=config)"
      ]
    }
  ],
  "metadata": {
    "colab": {
      "name": "amazon_reviews_pets.ipynb",
      "provenance": [],
      "collapsed_sections": []
    },
    "kernelspec": {
      "display_name": "Python 3",
      "language": "python",
      "name": "python3"
    },
    "language_info": {
      "codemirror_mode": {
        "name": "ipython",
        "version": 3
      },
      "file_extension": ".py",
      "mimetype": "text/x-python",
      "name": "python",
      "nbconvert_exporter": "python",
      "pygments_lexer": "ipython3",
      "version": "3.7.4"
    },
    "latex_envs": {
      "LaTeX_envs_menu_present": true,
      "autoclose": false,
      "autocomplete": true,
      "bibliofile": "biblio.bib",
      "cite_by": "apalike",
      "current_citInitial": 1,
      "eqLabelWithNumbers": true,
      "eqNumInitial": 1,
      "hotkeys": {
        "equation": "Ctrl-E",
        "itemize": "Ctrl-I"
      },
      "labels_anchors": false,
      "latex_user_defs": false,
      "report_style_numbering": false,
      "user_envs_cfg": false
    }
  },
  "nbformat": 4,
  "nbformat_minor": 0
}